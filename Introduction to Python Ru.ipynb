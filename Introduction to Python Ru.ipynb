{
  "cells": [
    {
      "cell_type": "markdown",
      "metadata": {
        "id": "dLvd9FwAykN0"
      },
      "source": [
        "# Проектная работа по Introduction to Python"
      ],
      "id": "dLvd9FwAykN0"
    },
    {
      "cell_type": "markdown",
      "metadata": {
        "id": "eMi1iCjPykN2"
      },
      "source": [
        "#### > Task01. Базовый синтаксис:\n",
        "\n",
        "Создайте два переменных `name`, `age`  и впишите в них любые имя и возраст\n",
        "\n",
        "Затем распечатайте эти переменные, передав их тремя аргументами в функцию print, завернув в f-строку.\n",
        "\n",
        "Создайте комментарий в любом месте программы и напишите туда дату решения задачи. Это ни на что не повлияет — просто попрактикуемся в написании комментариев.\n",
        "\n",
        "Desired output:\n",
        "```python\n",
        "    Меня зовут <name>. Мне <age> лет/года.\n",
        "```"
      ],
      "id": "eMi1iCjPykN2"
    },
    {
      "cell_type": "code",
      "execution_count": null,
      "metadata": {
        "colab": {
          "base_uri": "https://localhost:8080/"
        },
        "id": "8W_XKjoAykN3",
        "outputId": "6f66536a-79ab-4c36-e942-e4d4a3a0ac2d"
      },
      "outputs": [
        {
          "output_type": "stream",
          "name": "stdout",
          "text": [
            "My name is Gulzhan. And my age 22\n"
          ]
        }
      ],
      "source": [
        "name = \"Gulzhan\"\n",
        "age = 22\n",
        "print(f'My name is {name}. And my age {age}')"
      ],
      "id": "8W_XKjoAykN3"
    },
    {
      "cell_type": "markdown",
      "metadata": {
        "id": "O71ezQhaykN3"
      },
      "source": [
        "#### > Task02. Арифметика : поход в магазин\n",
        "\n",
        "Представим, что у нас есть `total_money` тенге и мы идем в магазин покупать варенье про запас.\n",
        "Каждая банка варенья стоит `price` тенге (при этом `price > 0`). Наша задача — подсчитать, сколько **банок** мы сможем купить.\n",
        "\n",
        "\n",
        "```python\n",
        "total_money = 5000\n",
        "price = 1579\n",
        "```\n",
        "Запишите результат в переменную jar_count.\n"
      ],
      "id": "O71ezQhaykN3"
    },
    {
      "cell_type": "code",
      "execution_count": null,
      "metadata": {
        "colab": {
          "base_uri": "https://localhost:8080/"
        },
        "id": "BwemGsQeykN4",
        "outputId": "cfcd7e9b-8c4e-43db-ed98-082adb5b0e0f"
      },
      "outputs": [
        {
          "output_type": "stream",
          "name": "stdout",
          "text": [
            "3\n"
          ]
        }
      ],
      "source": [
        "total_money = 5000\n",
        "price = 1579\n",
        "\n",
        "jar_count = total_money // price\n",
        "print(jar_count)"
      ],
      "id": "BwemGsQeykN4"
    },
    {
      "cell_type": "markdown",
      "metadata": {
        "id": "gI96Rq05ykN5"
      },
      "source": [
        "#### > Task03. Арифметика : квадратные уравнения\n",
        "\n",
        "В практических приложениях математики часто встречаются квадратные уравнения — это уравнения вида:\n",
        "\n",
        "ax<sup>2</sup> + bx + c = 0\n",
        "\n",
        "Здесь a, b и c — некие числа. Вот пример такого уравнения:\n",
        "\n",
        "3x<sup>2</sup> + 7x − 10 = 0\n",
        "\n",
        "В примере a=3, b=7, c=−10.\n",
        "\n",
        "У таких уравнений может быть два, одно или ноль решений. Мы для простоты будем рассматривать только те уравнения, которые имеют два решения. Если решений два, то они задаются формулами:\n",
        "\n",
        "$$ x_1 = {-b + \\sqrt{b^2-4ac} \\over 2a} $$ $$ x_2 = {-b - \\sqrt{b^2-4ac} \\over 2a} $$\n",
        "\n",
        "Выглядит пугающе! Но на деле две формулы отличаются только заменой знака \"+\" на знак \"−\" перед квадратным корнем.\n",
        "\n",
        "**Наша задача:** по известным a, b, c подсчитать оба корня этого уравнения<br>\n",
        "```python\n",
        "a = [6, 2, -4, 20]\n",
        "b = [11, -4, -7, -15]\n",
        "c = [-35, -2, 12, -10]\n",
        "```\n",
        "\n",
        "Запишите результаты в листы `x_1` и `x_2` соответственно\n",
        "\n",
        "*Bonus: попробуйте переписать решение квадратного уравнение теоремой Виета*"
      ],
      "id": "gI96Rq05ykN5"
    },
    {
      "cell_type": "code",
      "execution_count": null,
      "metadata": {
        "colab": {
          "base_uri": "https://localhost:8080/"
        },
        "id": "K74E8e8mykN5",
        "outputId": "b648258a-8f5a-4242-c791-b2f6ba4ec12b"
      },
      "outputs": [
        {
          "output_type": "stream",
          "name": "stdout",
          "text": [
            "    a   b   c        x1        x2\n",
            "0   6  11 -35  1.666667 -3.500000\n",
            "1   2  -4  -2  2.414214 -0.414214\n",
            "2  -4  -7  12 -2.815522  1.065522\n",
            "3  20 -15 -10  1.175391 -0.425391\n"
          ]
        }
      ],
      "source": [
        "import pandas as pd\n",
        "import math\n",
        "\n",
        "\n",
        "data = {\n",
        "    'a': [6, 2, -4, 20],\n",
        "    'b': [11, -4, -7, -15],\n",
        "    'c': [-35, -2, 12, -10]\n",
        "}\n",
        "\n",
        "df = pd.DataFrame(data)\n",
        "\n",
        "\n",
        "def calc_roots(row):\n",
        "    D = row['b']**2 - 4*row['a']*row['c']\n",
        "    x1 = (-row['b'] + math.sqrt(D)) / (2*row['a'])\n",
        "    x2 = (-row['b'] - math.sqrt(D)) / (2*row['a'])\n",
        "    return pd.Series({'x1': x1, 'x2': x2})\n",
        "\n",
        "\n",
        "df[['x1', 'x2']] = df.apply(calc_roots, axis=1)\n",
        "\n",
        "print(df)"
      ],
      "id": "K74E8e8mykN5"
    },
    {
      "cell_type": "markdown",
      "metadata": {
        "id": "cTUBWU3FykN6"
      },
      "source": [
        "#### > Task04. Коллекции : \"Это большие дела...\"\n",
        "У нас есть два списка `tasks_my` и `tasks_friend`.\n",
        "\n",
        "Теперь необходимо объединить эти списки в один (любым способом, сначала tasks_my, потом tasks_friend) и сохраните результат в tasks_all\n",
        "\n",
        "```python\n",
        "tasks_my = ['Закончить с домашкой', 'Купить продукты', 'Поиграть в Valorant']\n",
        "tasks_friend = ['Поиграть в Valorant', 'Сходить в универ', 'Помыть машину']\n",
        "```"
      ],
      "id": "cTUBWU3FykN6"
    },
    {
      "cell_type": "code",
      "execution_count": null,
      "metadata": {
        "colab": {
          "base_uri": "https://localhost:8080/"
        },
        "id": "yvLnnDZ-ykN7",
        "outputId": "b62589a5-0f9c-4d3e-fb59-790409cddd2b"
      },
      "outputs": [
        {
          "output_type": "stream",
          "name": "stdout",
          "text": [
            "['Закончить с домашкой', 'Купить продукты', 'Поиграть в Valorant', 'Поиграть в Valorant', 'Сходить в универ', 'Помыть машину']\n"
          ]
        }
      ],
      "source": [
        "tasks_my = ['Закончить с домашкой', 'Купить продукты', 'Поиграть в Valorant']\n",
        "tasks_friend = ['Поиграть в Valorant', 'Сходить в универ', 'Помыть машину']\n",
        "\n",
        "\n",
        "tasks_all = tasks_my + tasks_friend\n",
        "\n",
        "print(tasks_all)"
      ],
      "id": "yvLnnDZ-ykN7"
    },
    {
      "cell_type": "markdown",
      "metadata": {
        "id": "mo9WmGWMykN7"
      },
      "source": [
        "#### > Task05. Коллекции : \"Это большие дела... \"-2\n",
        "В списке наших дел не хватает приоритетов задач -- какой задачей стоит заняться в первую очередь?\n",
        "\n",
        "Создайте dictionary по названием `my_tasks`. Структура и содержание следующее:\n",
        "\n",
        "| Приоритет\t| Задача |\n",
        "| ----- | ------ |\n",
        "| 0 | Покормить кота |\n",
        "| 1 | Закончить с домашкой |\n",
        "| 2 | Почитать книгу по программированию |\n",
        "| 3 | Купить продукты |\n",
        "| 4 | Поиграть в Valorant |\n",
        "\n"
      ],
      "id": "mo9WmGWMykN7"
    },
    {
      "cell_type": "code",
      "execution_count": null,
      "metadata": {
        "colab": {
          "base_uri": "https://localhost:8080/"
        },
        "id": "zdO7SN6rykN8",
        "outputId": "26d42e24-8f8f-4dee-fda0-968b7ccbc5fd"
      },
      "outputs": [
        {
          "output_type": "stream",
          "name": "stdout",
          "text": [
            "Приоритет 0: Покормить кота\n",
            "Приоритет 1: Закончить с домашкой\n",
            "Приоритет 2: Почитать книгу по программированию\n",
            "Приоритет 3: Купить продукты\n",
            "Приоритет 4: Поиграть в Valorant\n"
          ]
        }
      ],
      "source": [
        "my_tasks = {\n",
        "    0: 'Покормить кота',\n",
        "    1: 'Закончить с домашкой',\n",
        "    2: 'Почитать книгу по программированию',\n",
        "    3: 'Купить продукты',\n",
        "    4: 'Поиграть в Valorant'\n",
        "}\n",
        "\n",
        "\n",
        "for priority, task in my_tasks.items():\n",
        "    print(f\"Приоритет {priority}: {task}\")"
      ],
      "id": "zdO7SN6rykN8"
    },
    {
      "cell_type": "markdown",
      "metadata": {
        "id": "3PUQ4_X_ykN8"
      },
      "source": [
        "#### > Task06. Множества : Дубли в задачах\n",
        "Последняя неделя выдалась тяжелой, и вам постоянно приходилось в спешке добавлять в записную книжку новые задачи. Теперь одна и та же задача в вашей книжке может дублироваться! Дедлайны вовсю бьют, поэтому вы готовы садиться за задачи без разбора их порядка.\n",
        "\n",
        "Вам дан словарь с задачами `tasks`. Пройдитесь по всем ключам и устраните дублирование только в рамках значений, соответствующих одному ключу. Создайте новый словарь `new_tasks`, в котором будут те же ключи и те же задачи, но уже без дублей.\n",
        "\n",
        "```python\n",
        "tasks = {\n",
        "    0: [\"Покормить кота\",\"Покормить кота\"],\n",
        "    1: [\"Покормить кота\", \"Забрать посылку\"]\n",
        "}\n",
        "\n",
        "# Результат\n",
        "new_tasks = {\n",
        "    0: ['Покормить кота'],\n",
        "    1: ['Покормить кота', 'Забрать посылку']\n",
        "}\n",
        "\n",
        "```"
      ],
      "id": "3PUQ4_X_ykN8"
    },
    {
      "cell_type": "code",
      "execution_count": null,
      "metadata": {
        "colab": {
          "base_uri": "https://localhost:8080/"
        },
        "id": "Gn3pe79JykN8",
        "outputId": "1821a110-87df-4ad2-de6c-f9739b8b58b5"
      },
      "outputs": [
        {
          "output_type": "stream",
          "name": "stdout",
          "text": [
            "{0: ['Покормить кота'], 1: ['Покормить кота', 'Забрать посылку']}\n"
          ]
        }
      ],
      "source": [
        "tasks = {\n",
        "    0: [\"Покормить кота\", \"Покормить кота\"],\n",
        "    1: [\"Покормить кота\", \"Забрать посылку\"]\n",
        "}\n",
        "\n",
        "new_tasks = {}\n",
        "for key, value in tasks.items():\n",
        "    unique_tasks = list(set(value))\n",
        "    new_tasks[key] = unique_tasks\n",
        "\n",
        "\n",
        "print(new_tasks)"
      ],
      "id": "Gn3pe79JykN8"
    },
    {
      "cell_type": "markdown",
      "metadata": {
        "id": "j9uZAodOykN9"
      },
      "source": [
        "#### > Task07. Функции : Капитализация процентов\n",
        "Мы изучили рынок на условия по депозитам, и хотим посчитать во что превратится наш первоначальный взнос `n` лет спустя.\n",
        "\n",
        "Напишите функцию `final_balance`, которая на вход принимает начальную сумму `init_sum`, процентную ставку `interest_rate`, количество лет `years`. Функция должна возвращать сумму по истечении этого срока.\n",
        "\n",
        "|init_sum |\tinterest_rate\t| years|\n",
        "|-----|--------|--------|\n",
        "|1_000_000 |\t14.3\t|10|\n",
        "|1_200_000 |\t 11.5\t|8|\n",
        "|700_000 |\t 9.9\t|3|\n",
        "|825_000 |\t 13.3\t|7|\n",
        "\n",
        "*Учтите, что если процентная ставка 10%, первоначальный взнос 100 000, то по истечению 1 года у вас на счету будет 110 000, и на 2 год вы получите 10% от 110 000 и так далее до конца срока*"
      ],
      "id": "j9uZAodOykN9"
    },
    {
      "cell_type": "code",
      "execution_count": null,
      "metadata": {
        "colab": {
          "base_uri": "https://localhost:8080/"
        },
        "id": "2aJaOSncykN9",
        "outputId": "1c6eb7ec-4ec0-4203-e806-a9a5af2fcf85"
      },
      "outputs": [
        {
          "output_type": "stream",
          "name": "stdout",
          "text": [
            "Сумма через 10 лет с начальным взносом 1000000 и процентной ставкой 14.3%: 3805943.21\n",
            "Сумма через 8 лет с начальным взносом 1200000 и процентной ставкой 11.5%: 2866686.39\n",
            "Сумма через 3 лет с начальным взносом 700000 и процентной ставкой 9.9%: 929161.31\n",
            "Сумма через 7 лет с начальным взносом 825000 и процентной ставкой 13.3%: 1977257.89\n"
          ]
        }
      ],
      "source": [
        "def final_balance(init_sum, interest_rate, years):\n",
        "    balance = init_sum\n",
        "    for year in range(years):\n",
        "        interest = balance * (interest_rate / 100)\n",
        "        balance += interest\n",
        "    return balance\n",
        "\n",
        "data = {\n",
        "    '1': [1_000_000, 14.3, 10],\n",
        "    '2': [1_200_000, 11.5, 8],\n",
        "    '3': [700_000, 9.9, 3],\n",
        "    '4': [825_000, 13.3, 7]\n",
        "}\n",
        "\n",
        "\n",
        "for key, values in data.items():\n",
        "    init_sum, interest_rate, years = values\n",
        "    result = final_balance(init_sum, interest_rate, years)\n",
        "    print(f\"Сумма через {years} лет с начальным взносом {init_sum} и процентной ставкой {interest_rate}%: {result:.2f}\")"
      ],
      "id": "2aJaOSncykN9"
    },
    {
      "cell_type": "markdown",
      "metadata": {
        "id": "4q69J6AwykN9"
      },
      "source": [
        "#### > Task08. Ошибки и их обработка\n",
        "Напишите функцию `sum_as_ints`, которая принимает на вход **список** из строк, пытается привести их к целому числу через `int(element)` и считает сумму. Список может содержать любые данные, но если они не приводятся через `int(element)`, то программа должна их отбросить.\n",
        "\n",
        "Вы можете попробовать выполнить `int(\"hello\")`, `int(\"3.14\")`, `int(\"2,2\")` и увидеть, какие исключения выбрасывает программа. После этого можно обработать эти исключения у себя в функции."
      ],
      "id": "4q69J6AwykN9"
    },
    {
      "cell_type": "code",
      "execution_count": null,
      "metadata": {
        "colab": {
          "base_uri": "https://localhost:8080/"
        },
        "id": "o6dDfJ-nykN-",
        "outputId": "5a2c8ec2-9ed8-48ab-9cdd-481f9916ac11"
      },
      "outputs": [
        {
          "output_type": "stream",
          "name": "stdout",
          "text": [
            "Сумма целых чисел из списка: 100\n"
          ]
        }
      ],
      "source": [
        "def sum_as_ints(str_list):\n",
        "    total_sum = 0\n",
        "    for element in str_list:\n",
        "        try:\n",
        "            num = int(element)\n",
        "            total_sum += num\n",
        "        except (ValueError, TypeError):\n",
        "            pass\n",
        "    return total_sum\n",
        "\n",
        "\n",
        "string_list = [\"10\", \"20\", \"hello\", \"30\", \"2.5\", \"40\", \"2,2\"]\n",
        "result = sum_as_ints(string_list)\n",
        "print(f'Сумма целых чисел из списка: {result}')"
      ],
      "id": "o6dDfJ-nykN-"
    },
    {
      "cell_type": "markdown",
      "metadata": {
        "id": "lsHP705fykN-"
      },
      "source": [
        "#### > Task09. Срезы\n",
        "В этом задании Вам понадобится написать функцию `find_substr`,  которая принимает на вход два аргумента: подстроку (любой длины) и строку, в которой нужно ее искать, и возвращает **кортеж**, представляющий собой пару [start, stop) первой позиции, где найдено слово.\n",
        "\n",
        "Например:\n",
        "```python\n",
        "find_substr(\"мы\", \"Летом мы хотим отдыхать на море\")\n",
        "# Output:\n",
        "(6, 8)\n",
        "\n",
        "find_substr(\"ма\", \"маленькая машина\")\n",
        "# Output:\n",
        "(0, 2)\n",
        "\n",
        "```"
      ],
      "id": "lsHP705fykN-"
    },
    {
      "cell_type": "code",
      "execution_count": null,
      "metadata": {
        "colab": {
          "base_uri": "https://localhost:8080/"
        },
        "id": "uunYxNeFykN-",
        "outputId": "bf9a7a98-e1a7-41dc-80f6-a110a8e26984"
      },
      "outputs": [
        {
          "output_type": "stream",
          "name": "stdout",
          "text": [
            "(6, 8)\n",
            "(0, 2)\n"
          ]
        }
      ],
      "source": [
        "def find_substr(substring, string):\n",
        "    start = string.find(substring)\n",
        "    if start != -1:\n",
        "        end = start + len(substring)\n",
        "        return (start, end)\n",
        "    else:\n",
        "        return None\n",
        "\n",
        "result1 = find_substr(\"мы\", \"Летом мы хотим отдыхать на море\")\n",
        "print(result1)\n",
        "\n",
        "result2 = find_substr(\"ма\", \"маленькая машина\")\n",
        "print(result2)"
      ],
      "id": "uunYxNeFykN-"
    },
    {
      "cell_type": "markdown",
      "metadata": {
        "id": "QX4ej9JFykN-"
      },
      "source": [
        "#### > Task10. Строки\n",
        "В этом задании необходимо написать функцию `check_string`, которая сначала проверяет:\n",
        "1. наличие лишних символов пробела слева и справа. Если есть лишние пробелы, то тогда мы считаем строку неверной;\n",
        "1. что только первое слово начинается с большой буквы, а остальные с маленькой;\n",
        "1. что последний символ последнего элемента является точкой.\n",
        "\n",
        "Например:\n",
        "```python\n",
        "def check_string(string):\n",
        "    <...>\n",
        "    return result\n",
        "\n",
        "check_string('В этом году будет особенно теплое море.')\n",
        "True\n",
        "check_string('В этом году будет особенно теплое Mоре.')\n",
        "False\n",
        "check_string('В этом году будет особенно теплое море')\n",
        "False\n",
        "check_string(' В этом году будет особенно теплое море')\n",
        "False\n",
        "```"
      ],
      "id": "QX4ej9JFykN-"
    },
    {
      "cell_type": "code",
      "execution_count": null,
      "metadata": {
        "colab": {
          "base_uri": "https://localhost:8080/"
        },
        "id": "-ePGtpIaykN_",
        "outputId": "9f3422a0-af8e-4aff-da91-bcc8399f2b90"
      },
      "outputs": [
        {
          "output_type": "stream",
          "name": "stdout",
          "text": [
            "True\n",
            "False\n",
            "False\n",
            "False\n"
          ]
        }
      ],
      "source": [
        "def check_string(string):\n",
        "    if string.strip() != string:\n",
        "        return False\n",
        "\n",
        "    words = string.split()\n",
        "    if not all(word[0].isupper() if i == 0 else word[0].islower() for i, word in enumerate(words)):\n",
        "        return False\n",
        "\n",
        "    if not string.strip().endswith('.'):\n",
        "        return False\n",
        "\n",
        "    return True\n",
        "\n",
        "print(check_string('В этом году будет особенно теплое море.'))\n",
        "print(check_string('В этом году будет особенно теплое Mоре.'))\n",
        "print(check_string('В этом году будет особенно теплое море'))\n",
        "print(check_string(' В этом году будет особенно теплое море'))"
      ],
      "id": "-ePGtpIaykN_"
    }
  ],
  "metadata": {
    "kernelspec": {
      "display_name": "Python 3",
      "language": "python",
      "name": "python3"
    },
    "language_info": {
      "codemirror_mode": {
        "name": "ipython",
        "version": 3
      },
      "file_extension": ".py",
      "mimetype": "text/x-python",
      "name": "python",
      "nbconvert_exporter": "python",
      "pygments_lexer": "ipython3",
      "version": "3.8.5"
    },
    "colab": {
      "provenance": []
    }
  },
  "nbformat": 4,
  "nbformat_minor": 5
}
